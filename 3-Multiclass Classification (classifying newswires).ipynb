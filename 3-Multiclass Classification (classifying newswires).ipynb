{
 "cells": [
  {
   "cell_type": "code",
   "execution_count": 18,
   "metadata": {
    "colab": {
     "base_uri": "https://localhost:8080/",
     "height": 34
    },
    "colab_type": "code",
    "executionInfo": {
     "elapsed": 1444,
     "status": "ok",
     "timestamp": 1594615700776,
     "user": {
      "displayName": "Garvit arya",
      "photoUrl": "",
      "userId": "10473100264300162962"
     },
     "user_tz": -330
    },
    "id": "yqzZ3PGTgDPo",
    "outputId": "c862796a-abfc-45d8-a914-6e9e0c813b17"
   },
   "outputs": [
    {
     "name": "stdout",
     "output_type": "stream",
     "text": [
      "time: 1.06 ms\n"
     ]
    }
   ],
   "source": [
    "import numpy as np\n",
    "\n",
    "from keras import models\n",
    "from keras import layers"
   ]
  },
  {
   "cell_type": "markdown",
   "metadata": {
    "colab_type": "text",
    "id": "Kng-Tb5b1hAy"
   },
   "source": [
    "### Preparing the data"
   ]
  },
  {
   "cell_type": "markdown",
   "metadata": {
    "colab_type": "text",
    "id": "TjG4HDhDdZzH"
   },
   "source": [
    "Loading reuters dataset"
   ]
  },
  {
   "cell_type": "code",
   "execution_count": 83,
   "metadata": {
    "colab": {
     "base_uri": "https://localhost:8080/",
     "height": 34
    },
    "colab_type": "code",
    "executionInfo": {
     "elapsed": 1721,
     "status": "ok",
     "timestamp": 1594619581177,
     "user": {
      "displayName": "Garvit arya",
      "photoUrl": "",
      "userId": "10473100264300162962"
     },
     "user_tz": -330
    },
    "id": "IeZrVtrDdgKI",
    "outputId": "4f0ccc12-8fb6-4aa9-b232-6f2719867cde"
   },
   "outputs": [
    {
     "name": "stdout",
     "output_type": "stream",
     "text": [
      "time: 532 ms\n"
     ]
    }
   ],
   "source": [
    "from keras.datasets import reuters\n",
    "\n",
    "(train_data, train_labels), (test_data, test_labels) = reuters.load_data(num_words=10000)"
   ]
  },
  {
   "cell_type": "code",
   "execution_count": 84,
   "metadata": {
    "colab": {
     "base_uri": "https://localhost:8080/",
     "height": 51
    },
    "colab_type": "code",
    "executionInfo": {
     "elapsed": 1391,
     "status": "ok",
     "timestamp": 1594619581180,
     "user": {
      "displayName": "Garvit arya",
      "photoUrl": "",
      "userId": "10473100264300162962"
     },
     "user_tz": -330
    },
    "id": "Uzqbvwxtdf-N",
    "outputId": "901aecb4-5173-4c63-a8d7-73875501ed2b"
   },
   "outputs": [
    {
     "name": "stdout",
     "output_type": "stream",
     "text": [
      "8982 2246\n",
      "time: 1e+03 µs\n"
     ]
    }
   ],
   "source": [
    "print(len(train_data), len(test_data))"
   ]
  },
  {
   "cell_type": "code",
   "execution_count": 86,
   "metadata": {
    "colab": {
     "base_uri": "https://localhost:8080/",
     "height": 51
    },
    "colab_type": "code",
    "executionInfo": {
     "elapsed": 1259,
     "status": "ok",
     "timestamp": 1594619582141,
     "user": {
      "displayName": "Garvit arya",
      "photoUrl": "",
      "userId": "10473100264300162962"
     },
     "user_tz": -330
    },
    "id": "D_7_ObGuefYL",
    "outputId": "cfdae2ca-068f-4e5b-a6e0-4ef06bc355a1"
   },
   "outputs": [
    {
     "name": "stdout",
     "output_type": "stream",
     "text": [
      "9999\n",
      "time: 30.9 ms\n"
     ]
    }
   ],
   "source": [
    "print(max([max(sequence) for sequence in train_data]))"
   ]
  },
  {
   "cell_type": "markdown",
   "metadata": {
    "colab_type": "text",
    "id": "z7Wt03GFh5tW"
   },
   "source": [
    "### Converting integer vectors to binary metrix"
   ]
  },
  {
   "cell_type": "code",
   "execution_count": 87,
   "metadata": {
    "colab": {
     "base_uri": "https://localhost:8080/",
     "height": 34
    },
    "colab_type": "code",
    "executionInfo": {
     "elapsed": 1012,
     "status": "ok",
     "timestamp": 1594619585609,
     "user": {
      "displayName": "Garvit arya",
      "photoUrl": "",
      "userId": "10473100264300162962"
     },
     "user_tz": -330
    },
    "id": "hfMJuWIDdfoj",
    "outputId": "06d3b1be-b191-42f3-b336-9739ecd37deb"
   },
   "outputs": [
    {
     "name": "stdout",
     "output_type": "stream",
     "text": [
      "time: 1.69 ms\n"
     ]
    }
   ],
   "source": [
    "def vectorize_sequence(sequence, dimention=10000):\n",
    "  results = np.zeros((len(sequence), dimention))\n",
    "  for i, seq in enumerate(sequence):\n",
    "    results[i][seq] = 1.\n",
    "  return results"
   ]
  },
  {
   "cell_type": "code",
   "execution_count": 88,
   "metadata": {
    "colab": {
     "base_uri": "https://localhost:8080/",
     "height": 34
    },
    "colab_type": "code",
    "executionInfo": {
     "elapsed": 1843,
     "status": "ok",
     "timestamp": 1594619586997,
     "user": {
      "displayName": "Garvit arya",
      "photoUrl": "",
      "userId": "10473100264300162962"
     },
     "user_tz": -330
    },
    "id": "r-oBfGpzdfd7",
    "outputId": "ca9e8a28-3363-4814-cff2-44ee0eac4e8e"
   },
   "outputs": [
    {
     "name": "stdout",
     "output_type": "stream",
     "text": [
      "time: 360 ms\n"
     ]
    }
   ],
   "source": [
    "x_train = vectorize_sequence(train_data)\n",
    "x_test =  vectorize_sequence(test_data)"
   ]
  },
  {
   "cell_type": "code",
   "execution_count": 89,
   "metadata": {
    "colab": {
     "base_uri": "https://localhost:8080/",
     "height": 51
    },
    "colab_type": "code",
    "executionInfo": {
     "elapsed": 1269,
     "status": "ok",
     "timestamp": 1594619586998,
     "user": {
      "displayName": "Garvit arya",
      "photoUrl": "",
      "userId": "10473100264300162962"
     },
     "user_tz": -330
    },
    "id": "eBONdue_hcAa",
    "outputId": "5e2bf630-9f17-48c7-d3c1-7dff108f386b"
   },
   "outputs": [
    {
     "name": "stdout",
     "output_type": "stream",
     "text": [
      "45\n",
      "time: 1.54 ms\n"
     ]
    }
   ],
   "source": [
    "print(max(train_labels))"
   ]
  },
  {
   "cell_type": "markdown",
   "metadata": {
    "colab_type": "text",
    "id": "R572UH0chb3S"
   },
   "source": [
    "### Converting integer vectors (labels) to binary metrix (categories)"
   ]
  },
  {
   "cell_type": "code",
   "execution_count": 90,
   "metadata": {
    "colab": {
     "base_uri": "https://localhost:8080/",
     "height": 34
    },
    "colab_type": "code",
    "executionInfo": {
     "elapsed": 941,
     "status": "ok",
     "timestamp": 1594619587812,
     "user": {
      "displayName": "Garvit arya",
      "photoUrl": "",
      "userId": "10473100264300162962"
     },
     "user_tz": -330
    },
    "id": "mhQleJumhbuh",
    "outputId": "4f459e2e-851f-41c0-fd50-2b181f0de579"
   },
   "outputs": [
    {
     "name": "stdout",
     "output_type": "stream",
     "text": [
      "time: 1.53 ms\n"
     ]
    }
   ],
   "source": [
    "def to_one_hot(labels, dimention = 46):\n",
    "  results = np.zeros((len(labels), dimention))\n",
    "  for i, label in enumerate(labels):\n",
    "    results[i][label] = 1.\n",
    "  return results"
   ]
  },
  {
   "cell_type": "code",
   "execution_count": 91,
   "metadata": {
    "colab": {
     "base_uri": "https://localhost:8080/",
     "height": 34
    },
    "colab_type": "code",
    "executionInfo": {
     "elapsed": 1036,
     "status": "ok",
     "timestamp": 1594619588377,
     "user": {
      "displayName": "Garvit arya",
      "photoUrl": "",
      "userId": "10473100264300162962"
     },
     "user_tz": -330
    },
    "id": "AyloyLmbgZTN",
    "outputId": "ea633a7c-8102-48dc-992d-27d58fd92f69"
   },
   "outputs": [
    {
     "name": "stdout",
     "output_type": "stream",
     "text": [
      "time: 10.1 ms\n"
     ]
    }
   ],
   "source": [
    "one_hot_train_labels = to_one_hot(train_labels)\n",
    "one_hot_test_labels  = to_one_hot(test_labels)"
   ]
  },
  {
   "cell_type": "markdown",
   "metadata": {
    "colab_type": "text",
    "id": "c5wpEo0jgZIF"
   },
   "source": [
    "NOTE: To convert labels into categories, we can also use built-in method"
   ]
  },
  {
   "cell_type": "code",
   "execution_count": 92,
   "metadata": {
    "colab": {
     "base_uri": "https://localhost:8080/",
     "height": 34
    },
    "colab_type": "code",
    "executionInfo": {
     "elapsed": 1365,
     "status": "ok",
     "timestamp": 1594619589646,
     "user": {
      "displayName": "Garvit arya",
      "photoUrl": "",
      "userId": "10473100264300162962"
     },
     "user_tz": -330
    },
    "id": "VVe6XWRcjTtB",
    "outputId": "a34bbaec-6c52-453f-aaa4-4cfab7be10bc"
   },
   "outputs": [
    {
     "name": "stdout",
     "output_type": "stream",
     "text": [
      "time: 3.25 ms\n"
     ]
    }
   ],
   "source": [
    "from keras.utils import to_categorical\n",
    "\n",
    "one_hot_train_labels = to_categorical(train_labels)\n",
    "one_hot_test_labels  = to_categorical(test_labels)"
   ]
  },
  {
   "cell_type": "markdown",
   "metadata": {
    "colab_type": "text",
    "id": "US1gv9N3jhrN"
   },
   "source": [
    "### Building the network"
   ]
  },
  {
   "cell_type": "code",
   "execution_count": 93,
   "metadata": {
    "colab": {
     "base_uri": "https://localhost:8080/",
     "height": 34
    },
    "colab_type": "code",
    "executionInfo": {
     "elapsed": 1079,
     "status": "ok",
     "timestamp": 1594619590239,
     "user": {
      "displayName": "Garvit arya",
      "photoUrl": "",
      "userId": "10473100264300162962"
     },
     "user_tz": -330
    },
    "id": "c7WpqoCGjhhc",
    "outputId": "d31a1e33-f174-4bc9-db1a-64501c63da9c"
   },
   "outputs": [
    {
     "name": "stdout",
     "output_type": "stream",
     "text": [
      "time: 22.8 ms\n"
     ]
    }
   ],
   "source": [
    "model = models.Sequential()\n",
    "model.add(layers.Dense(64, activation='relu', input_shape = (10000,)))\n",
    "model.add(layers.Dense(64, activation='relu'))\n",
    "model.add(layers.Dense(46, activation='softmax'))"
   ]
  },
  {
   "cell_type": "markdown",
   "metadata": {
    "colab_type": "text",
    "id": "xZdzOtMekmYk"
   },
   "source": [
    "### Compiling the model"
   ]
  },
  {
   "cell_type": "code",
   "execution_count": 94,
   "metadata": {
    "colab": {
     "base_uri": "https://localhost:8080/",
     "height": 34
    },
    "colab_type": "code",
    "executionInfo": {
     "elapsed": 817,
     "status": "ok",
     "timestamp": 1594619590896,
     "user": {
      "displayName": "Garvit arya",
      "photoUrl": "",
      "userId": "10473100264300162962"
     },
     "user_tz": -330
    },
    "id": "8Sta51pdk7bd",
    "outputId": "c2b0fa36-acd9-4712-c402-ca2828d2e3fb"
   },
   "outputs": [
    {
     "name": "stdout",
     "output_type": "stream",
     "text": [
      "time: 37.3 ms\n"
     ]
    }
   ],
   "source": [
    "from keras.optimizers import RMSprop\n",
    "from keras.losses import categorical_crossentropy\n",
    "from keras.metrics import categorical_accuracy\n",
    "\n",
    "model.compile(optimizer=RMSprop(learning_rate=0.001), \n",
    "              loss=categorical_crossentropy,\n",
    "              metrics = [categorical_accuracy])"
   ]
  },
  {
   "cell_type": "markdown",
   "metadata": {
    "colab_type": "text",
    "id": "MQXaYkypk7R_"
   },
   "source": [
    "### Validation the approach"
   ]
  },
  {
   "cell_type": "code",
   "execution_count": 95,
   "metadata": {
    "colab": {
     "base_uri": "https://localhost:8080/",
     "height": 34
    },
    "colab_type": "code",
    "executionInfo": {
     "elapsed": 1047,
     "status": "ok",
     "timestamp": 1594619592106,
     "user": {
      "displayName": "Garvit arya",
      "photoUrl": "",
      "userId": "10473100264300162962"
     },
     "user_tz": -330
    },
    "id": "NGle5Dc6jhXT",
    "outputId": "f6b485a9-911d-408f-876b-5fd11c267f8e"
   },
   "outputs": [
    {
     "name": "stdout",
     "output_type": "stream",
     "text": [
      "time: 2.68 ms\n"
     ]
    }
   ],
   "source": [
    "x_val = x_train[:1000]\n",
    "partial_x_train = x_train[1000:]\n",
    "\n",
    "y_val = one_hot_train_labels[:1000]\n",
    "partial_y_train = one_hot_train_labels[1000:]"
   ]
  },
  {
   "cell_type": "markdown",
   "metadata": {
    "colab_type": "text",
    "id": "zXm06PHHmjtF"
   },
   "source": [
    "### Training the model"
   ]
  },
  {
   "cell_type": "code",
   "execution_count": 96,
   "metadata": {
    "colab": {
     "base_uri": "https://localhost:8080/",
     "height": 751
    },
    "colab_type": "code",
    "executionInfo": {
     "elapsed": 15743,
     "status": "ok",
     "timestamp": 1594619608685,
     "user": {
      "displayName": "Garvit arya",
      "photoUrl": "",
      "userId": "10473100264300162962"
     },
     "user_tz": -330
    },
    "id": "Tegjq6hHmmzC",
    "outputId": "97e63d44-206d-4bfb-ebbb-249ad9b79b0a"
   },
   "outputs": [
    {
     "name": "stdout",
     "output_type": "stream",
     "text": [
      "Train on 7982 samples, validate on 1000 samples\n",
      "Epoch 1/20\n",
      "7982/7982 [==============================] - 1s 93us/step - loss: 1.6013 - categorical_accuracy: 0.6525 - val_loss: 1.1262 - val_categorical_accuracy: 0.7440\n",
      "Epoch 2/20\n",
      "7982/7982 [==============================] - 1s 81us/step - loss: 0.8425 - categorical_accuracy: 0.8157 - val_loss: 0.9331 - val_categorical_accuracy: 0.8000\n",
      "Epoch 3/20\n",
      "7982/7982 [==============================] - 1s 84us/step - loss: 0.5379 - categorical_accuracy: 0.8859 - val_loss: 0.8370 - val_categorical_accuracy: 0.8270\n",
      "Epoch 4/20\n",
      "7982/7982 [==============================] - 1s 84us/step - loss: 0.3640 - categorical_accuracy: 0.9194 - val_loss: 0.8849 - val_categorical_accuracy: 0.8150\n",
      "Epoch 5/20\n",
      "7982/7982 [==============================] - 1s 83us/step - loss: 0.2721 - categorical_accuracy: 0.9389 - val_loss: 0.8882 - val_categorical_accuracy: 0.8170\n",
      "Epoch 6/20\n",
      "7982/7982 [==============================] - 1s 85us/step - loss: 0.2180 - categorical_accuracy: 0.9464 - val_loss: 0.9397 - val_categorical_accuracy: 0.8240\n",
      "Epoch 7/20\n",
      "7982/7982 [==============================] - 1s 86us/step - loss: 0.1875 - categorical_accuracy: 0.9519 - val_loss: 0.9596 - val_categorical_accuracy: 0.8240\n",
      "Epoch 8/20\n",
      "7982/7982 [==============================] - 1s 96us/step - loss: 0.1687 - categorical_accuracy: 0.9530 - val_loss: 1.0499 - val_categorical_accuracy: 0.8110\n",
      "Epoch 9/20\n",
      "7982/7982 [==============================] - 1s 89us/step - loss: 0.1587 - categorical_accuracy: 0.9538 - val_loss: 1.0993 - val_categorical_accuracy: 0.8120\n",
      "Epoch 10/20\n",
      "7982/7982 [==============================] - 1s 93us/step - loss: 0.1482 - categorical_accuracy: 0.9551 - val_loss: 1.1209 - val_categorical_accuracy: 0.7990\n",
      "Epoch 11/20\n",
      "7982/7982 [==============================] - 1s 88us/step - loss: 0.1427 - categorical_accuracy: 0.9540 - val_loss: 1.1151 - val_categorical_accuracy: 0.8090\n",
      "Epoch 12/20\n",
      "7982/7982 [==============================] - 1s 88us/step - loss: 0.1378 - categorical_accuracy: 0.9563 - val_loss: 1.2094 - val_categorical_accuracy: 0.8000\n",
      "Epoch 13/20\n",
      "7982/7982 [==============================] - 1s 90us/step - loss: 0.1288 - categorical_accuracy: 0.9582 - val_loss: 1.2376 - val_categorical_accuracy: 0.7980\n",
      "Epoch 14/20\n",
      "7982/7982 [==============================] - 1s 93us/step - loss: 0.1242 - categorical_accuracy: 0.9568 - val_loss: 1.2757 - val_categorical_accuracy: 0.7930\n",
      "Epoch 15/20\n",
      "7982/7982 [==============================] - 1s 91us/step - loss: 0.1188 - categorical_accuracy: 0.9584 - val_loss: 1.2877 - val_categorical_accuracy: 0.8000\n",
      "Epoch 16/20\n",
      "7982/7982 [==============================] - 1s 89us/step - loss: 0.1168 - categorical_accuracy: 0.9560 - val_loss: 1.3244 - val_categorical_accuracy: 0.7960\n",
      "Epoch 17/20\n",
      "7982/7982 [==============================] - 1s 90us/step - loss: 0.1125 - categorical_accuracy: 0.9574 - val_loss: 1.3256 - val_categorical_accuracy: 0.7990\n",
      "Epoch 18/20\n",
      "7982/7982 [==============================] - 1s 89us/step - loss: 0.1072 - categorical_accuracy: 0.9572 - val_loss: 1.5236 - val_categorical_accuracy: 0.7950\n",
      "Epoch 19/20\n",
      "7982/7982 [==============================] - 1s 98us/step - loss: 0.1051 - categorical_accuracy: 0.9575 - val_loss: 1.4873 - val_categorical_accuracy: 0.7900\n",
      "Epoch 20/20\n",
      "7982/7982 [==============================] - 1s 96us/step - loss: 0.0982 - categorical_accuracy: 0.9587 - val_loss: 1.6148 - val_categorical_accuracy: 0.7890\n",
      "time: 14.6 s\n"
     ]
    }
   ],
   "source": [
    "history = model.fit(partial_x_train,\n",
    "                    partial_y_train,\n",
    "                    batch_size = 64,\n",
    "                    epochs = 20,\n",
    "                    validation_data = (x_val, y_val))"
   ]
  },
  {
   "cell_type": "code",
   "execution_count": 97,
   "metadata": {
    "colab": {
     "base_uri": "https://localhost:8080/",
     "height": 34
    },
    "colab_type": "code",
    "executionInfo": {
     "elapsed": 11624,
     "status": "ok",
     "timestamp": 1594619608687,
     "user": {
      "displayName": "Garvit arya",
      "photoUrl": "",
      "userId": "10473100264300162962"
     },
     "user_tz": -330
    },
    "id": "qMph_9Q1n4VJ",
    "outputId": "c524768b-6b2c-4575-df68-6c5248716d47"
   },
   "outputs": [
    {
     "data": {
      "text/plain": [
       "dict_keys(['val_loss', 'val_categorical_accuracy', 'loss', 'categorical_accuracy'])"
      ]
     },
     "execution_count": 97,
     "metadata": {
      "tags": []
     },
     "output_type": "execute_result"
    },
    {
     "name": "stdout",
     "output_type": "stream",
     "text": [
      "time: 2.31 ms\n"
     ]
    }
   ],
   "source": [
    "history.history.keys()"
   ]
  },
  {
   "cell_type": "markdown",
   "metadata": {
    "colab_type": "text",
    "id": "yi6t8SenmjkE"
   },
   "source": [
    "### Plotting the training and validation loss"
   ]
  },
  {
   "cell_type": "code",
   "execution_count": 98,
   "metadata": {
    "colab": {
     "base_uri": "https://localhost:8080/",
     "height": 444
    },
    "colab_type": "code",
    "executionInfo": {
     "elapsed": 10283,
     "status": "ok",
     "timestamp": 1594619608688,
     "user": {
      "displayName": "Garvit arya",
      "photoUrl": "",
      "userId": "10473100264300162962"
     },
     "user_tz": -330
    },
    "id": "fr2vC2PEmjas",
    "outputId": "62a23c0b-efec-4248-8ad3-da4bec160d4e"
   },
   "outputs": [
    {
     "data": {
      "image/png": "[encoded data removed]",
      "text/plain": [
       "<Figure size 640x480 with 1 Axes>"
      ]
     },
     "metadata": {
      "tags": []
     },
     "output_type": "display_data"
    },
    {
     "name": "stdout",
     "output_type": "stream",
     "text": [
      "time: 166 ms\n"
     ]
    }
   ],
   "source": [
    "import matplotlib.pyplot as plt\n",
    "\n",
    "plt.figure(num=None, figsize=(8, 6), dpi=80, facecolor='w', edgecolor='k')\n",
    "\n",
    "history_dic = history.history\n",
    "\n",
    "acc = history_dic['categorical_accuracy']\n",
    "val_acc = history_dic['val_categorical_accuracy']\n",
    "\n",
    "loss_values = history_dic['loss']\n",
    "val_loss_values = history_dic['val_loss']\n",
    "\n",
    "epochs = range(1, len(acc)+1)\n",
    "\n",
    "plt.plot(epochs, loss_values, 'bo', label = 'Training loss')\n",
    "plt.plot(epochs, val_loss_values, 'b', label = 'Validation loss')\n",
    "plt.xlabel('Epochs')\n",
    "plt.ylabel('Loss')\n",
    "plt.legend()\n",
    "plt.show()\n"
   ]
  },
  {
   "cell_type": "markdown",
   "metadata": {
    "colab_type": "text",
    "id": "Ss2-IvSEoKsZ"
   },
   "source": [
    "### Plotting the training and validation accuracy"
   ]
  },
  {
   "cell_type": "code",
   "execution_count": 99,
   "metadata": {
    "colab": {
     "base_uri": "https://localhost:8080/",
     "height": 444
    },
    "colab_type": "code",
    "executionInfo": {
     "elapsed": 9365,
     "status": "ok",
     "timestamp": 1594619609357,
     "user": {
      "displayName": "Garvit arya",
      "photoUrl": "",
      "userId": "10473100264300162962"
     },
     "user_tz": -330
    },
    "id": "qFaWxzQIoKjZ",
    "outputId": "b0a2d7b0-780c-4793-ff84-5cf9271f1c36"
   },
   "outputs": [
    {
     "data": {
      "image/png": "[encoded data removed]",
      "text/plain": [
       "<Figure size 640x480 with 1 Axes>"
      ]
     },
     "metadata": {
      "tags": []
     },
     "output_type": "display_data"
    },
    {
     "name": "stdout",
     "output_type": "stream",
     "text": [
      "time: 182 ms\n"
     ]
    }
   ],
   "source": [
    "plt.figure(num=None, figsize=(8, 6), dpi=80, facecolor='w', edgecolor='k')\n",
    "\n",
    "plt.plot(epochs, acc, 'bo', label = 'Training acc')\n",
    "plt.plot(epochs, val_acc, 'b', label = 'Validation acc')\n",
    "plt.xlabel('Epochs')\n",
    "plt.ylabel('Loss')\n",
    "plt.legend()\n",
    "plt.show()"
   ]
  },
  {
   "cell_type": "markdown",
   "metadata": {
    "colab_type": "text",
    "id": "S7-Ys_5AmjRZ"
   },
   "source": [
    "The network begins to overfit after nine epochs. Let’s train a new network from\n",
    "scratch for nine epochs and then evaluate it on the test set.\n"
   ]
  },
  {
   "cell_type": "markdown",
   "metadata": {
    "colab_type": "text",
    "id": "CD_meJYXoyPU"
   },
   "source": [
    "###  Retraining a model from scratch"
   ]
  },
  {
   "cell_type": "code",
   "execution_count": 100,
   "metadata": {
    "colab": {
     "base_uri": "https://localhost:8080/",
     "height": 357
    },
    "colab_type": "code",
    "executionInfo": {
     "elapsed": 7020,
     "status": "ok",
     "timestamp": 1594619613822,
     "user": {
      "displayName": "Garvit arya",
      "photoUrl": "",
      "userId": "10473100264300162962"
     },
     "user_tz": -330
    },
    "id": "wIAkX__noyGn",
    "outputId": "d98cfdd6-f14d-4a0c-8cb4-e5477e168164"
   },
   "outputs": [
    {
     "name": "stdout",
     "output_type": "stream",
     "text": [
      "Train on 7982 samples, validate on 1000 samples\n",
      "Epoch 1/9\n",
      "7982/7982 [==============================] - 1s 66us/step - loss: 2.6598 - accuracy: 0.5377 - val_loss: 1.7748 - val_accuracy: 0.6490\n",
      "Epoch 2/9\n",
      "7982/7982 [==============================] - 0s 53us/step - loss: 1.4373 - accuracy: 0.7101 - val_loss: 1.3020 - val_accuracy: 0.7220\n",
      "Epoch 3/9\n",
      "7982/7982 [==============================] - 0s 52us/step - loss: 1.0431 - accuracy: 0.7804 - val_loss: 1.1169 - val_accuracy: 0.7560\n",
      "Epoch 4/9\n",
      "7982/7982 [==============================] - 0s 54us/step - loss: 0.8120 - accuracy: 0.8264 - val_loss: 1.0183 - val_accuracy: 0.7900\n",
      "Epoch 5/9\n",
      "7982/7982 [==============================] - 0s 53us/step - loss: 0.6441 - accuracy: 0.8664 - val_loss: 0.9576 - val_accuracy: 0.7940\n",
      "Epoch 6/9\n",
      "7982/7982 [==============================] - 0s 52us/step - loss: 0.5129 - accuracy: 0.8944 - val_loss: 0.9094 - val_accuracy: 0.8170\n",
      "Epoch 7/9\n",
      "7982/7982 [==============================] - 0s 51us/step - loss: 0.4121 - accuracy: 0.9146 - val_loss: 0.9024 - val_accuracy: 0.8180\n",
      "Epoch 8/9\n",
      "7982/7982 [==============================] - 0s 51us/step - loss: 0.3350 - accuracy: 0.9303 - val_loss: 0.8892 - val_accuracy: 0.8160\n",
      "Epoch 9/9\n",
      "7982/7982 [==============================] - 0s 52us/step - loss: 0.2772 - accuracy: 0.9396 - val_loss: 0.8864 - val_accuracy: 0.8210\n"
     ]
    },
    {
     "data": {
      "text/plain": [
       "<keras.callbacks.callbacks.History at 0x7ff17bad6f60>"
      ]
     },
     "execution_count": 100,
     "metadata": {
      "tags": []
     },
     "output_type": "execute_result"
    },
    {
     "name": "stdout",
     "output_type": "stream",
     "text": [
      "time: 4.4 s\n"
     ]
    }
   ],
   "source": [
    "model = models.Sequential()\n",
    "model.add(layers.Dense(64, activation='relu', input_shape=(10000,)))\n",
    "model.add(layers.Dense(64, activation='relu'))\n",
    "model.add(layers.Dense(46, activation='softmax'))\n",
    "\n",
    "model.compile(optimizer='rmsprop',\n",
    "              loss='categorical_crossentropy',\n",
    "              metrics=['accuracy'])\n",
    "model.fit(partial_x_train, \n",
    "          partial_y_train,\n",
    "          epochs=9,\n",
    "          batch_size=512,\n",
    "          validation_data=(x_val, y_val))"
   ]
  },
  {
   "cell_type": "code",
   "execution_count": 101,
   "metadata": {
    "colab": {
     "base_uri": "https://localhost:8080/",
     "height": 51
    },
    "colab_type": "code",
    "executionInfo": {
     "elapsed": 1371,
     "status": "ok",
     "timestamp": 1594619622740,
     "user": {
      "displayName": "Garvit arya",
      "photoUrl": "",
      "userId": "10473100264300162962"
     },
     "user_tz": -330
    },
    "id": "I2ioanAhqVj4",
    "outputId": "98643b1b-bd58-4449-ee28-e5caa4004129"
   },
   "outputs": [
    {
     "name": "stdout",
     "output_type": "stream",
     "text": [
      "2246/2246 [==============================] - 0s 94us/step\n",
      "time: 213 ms\n"
     ]
    }
   ],
   "source": [
    "results = model.evaluate(x_test, one_hot_test_labels)"
   ]
  },
  {
   "cell_type": "code",
   "execution_count": 102,
   "metadata": {
    "colab": {
     "base_uri": "https://localhost:8080/",
     "height": 34
    },
    "colab_type": "code",
    "executionInfo": {
     "elapsed": 1358,
     "status": "ok",
     "timestamp": 1594619645098,
     "user": {
      "displayName": "Garvit arya",
      "photoUrl": "",
      "userId": "10473100264300162962"
     },
     "user_tz": -330
    },
    "id": "yfawCeK6vJfM",
    "outputId": "2213f805-af13-48ac-a22c-195c617df473"
   },
   "outputs": [
    {
     "data": {
      "text/plain": [
       "[0.9835823410234595, 0.7916295528411865]"
      ]
     },
     "execution_count": 102,
     "metadata": {
      "tags": []
     },
     "output_type": "execute_result"
    },
    {
     "name": "stdout",
     "output_type": "stream",
     "text": [
      "time: 2.23 ms\n"
     ]
    }
   ],
   "source": [
    "results"
   ]
  },
  {
   "cell_type": "markdown",
   "metadata": {
    "colab_type": "text",
    "id": "NqyvdcNCvJVM"
   },
   "source": [
    "### Generating predictions for new data"
   ]
  },
  {
   "cell_type": "code",
   "execution_count": 104,
   "metadata": {
    "colab": {
     "base_uri": "https://localhost:8080/",
     "height": 34
    },
    "colab_type": "code",
    "executionInfo": {
     "elapsed": 1101,
     "status": "ok",
     "timestamp": 1594621567900,
     "user": {
      "displayName": "Garvit arya",
      "photoUrl": "",
      "userId": "10473100264300162962"
     },
     "user_tz": -330
    },
    "id": "l9A84aeZ2d8L",
    "outputId": "a7e88465-2d0a-4c1d-eede-ac9b93a17e78"
   },
   "outputs": [
    {
     "name": "stdout",
     "output_type": "stream",
     "text": [
      "time: 166 ms\n"
     ]
    }
   ],
   "source": [
    "predictions = model.predict(x_test)"
   ]
  },
  {
   "cell_type": "code",
   "execution_count": 106,
   "metadata": {
    "colab": {
     "base_uri": "https://localhost:8080/",
     "height": 34
    },
    "colab_type": "code",
    "executionInfo": {
     "elapsed": 1247,
     "status": "ok",
     "timestamp": 1594621642625,
     "user": {
      "displayName": "Garvit arya",
      "photoUrl": "",
      "userId": "10473100264300162962"
     },
     "user_tz": -330
    },
    "id": "JIsRNBVm2veR",
    "outputId": "c9b7cf97-81f7-4a70-c9ec-74de59b66b43"
   },
   "outputs": [
    {
     "data": {
      "text/plain": [
       "(46,)"
      ]
     },
     "execution_count": 106,
     "metadata": {
      "tags": []
     },
     "output_type": "execute_result"
    },
    {
     "name": "stdout",
     "output_type": "stream",
     "text": [
      "time: 1.93 ms\n"
     ]
    }
   ],
   "source": [
    " predictions[0].shape"
   ]
  },
  {
   "cell_type": "code",
   "execution_count": 108,
   "metadata": {
    "colab": {
     "base_uri": "https://localhost:8080/",
     "height": 51
    },
    "colab_type": "code",
    "executionInfo": {
     "elapsed": 1445,
     "status": "ok",
     "timestamp": 1594621670113,
     "user": {
      "displayName": "Garvit arya",
      "photoUrl": "",
      "userId": "10473100264300162962"
     },
     "user_tz": -330
    },
    "id": "n-p5X_uY2dzE",
    "outputId": "6585c950-899b-4a2c-c674-b7dac76411ca"
   },
   "outputs": [
    {
     "name": "stdout",
     "output_type": "stream",
     "text": [
      "3\n",
      "time: 1.26 ms\n"
     ]
    }
   ],
   "source": [
    "print(np.argmax(predictions[0]))"
   ]
  }
 ],
 "metadata": {
  "accelerator": "GPU",
  "colab": {
   "authorship_tag": "ABX9TyMit/NGLrTx1utc7JDpYcx4",
   "name": "3-Multiclass Classification (classifying newswires).ipynb",
   "provenance": []
  },
  "kernelspec": {
   "display_name": "Python 3",
   "language": "python",
   "name": "python3"
  },
  "language_info": {
   "codemirror_mode": {
    "name": "ipython",
    "version": 3
   },
   "file_extension": ".py",
   "mimetype": "text/x-python",
   "name": "python",
   "nbconvert_exporter": "python",
   "pygments_lexer": "ipython3",
   "version": "3.7.4"
  }
 },
 "nbformat": 4,
 "nbformat_minor": 4
}
