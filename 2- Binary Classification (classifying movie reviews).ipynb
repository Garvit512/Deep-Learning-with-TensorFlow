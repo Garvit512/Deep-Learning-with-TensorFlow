{
 "cells": [
  {
   "cell_type": "code",
   "execution_count": 4,
   "metadata": {
    "colab": {
     "base_uri": "https://localhost:8080/",
     "height": 51
    },
    "colab_type": "code",
    "executionInfo": {
     "elapsed": 5464,
     "status": "ok",
     "timestamp": 1594497420991,
     "user": {
      "displayName": "Garvit arya",
      "photoUrl": "",
      "userId": "10473100264300162962"
     },
     "user_tz": -330
    },
    "id": "iwxvrW7s4M5f",
    "outputId": "bbd64ac1-0653-429e-af52-0bb1346beefb"
   },
   "outputs": [
    {
     "name": "stderr",
     "output_type": "stream",
     "text": [
      "Using TensorFlow backend.\n"
     ]
    },
    {
     "name": "stdout",
     "output_type": "stream",
     "text": [
      "time: 4.22 s\n"
     ]
    }
   ],
   "source": [
    "from keras import layers\n",
    "from keras import models"
   ]
  },
  {
   "cell_type": "markdown",
   "metadata": {
    "colab_type": "text",
    "id": "l05mCRHbdz1M"
   },
   "source": [
    "Checking availability of GPU"
   ]
  },
  {
   "cell_type": "code",
   "execution_count": 11,
   "metadata": {
    "colab": {
     "base_uri": "https://localhost:8080/",
     "height": 34
    },
    "colab_type": "code",
    "executionInfo": {
     "elapsed": 1103,
     "status": "ok",
     "timestamp": 1594497682446,
     "user": {
      "displayName": "Garvit arya",
      "photoUrl": "",
      "userId": "10473100264300162962"
     },
     "user_tz": -330
    },
    "id": "O7rcK6ymdD4F",
    "outputId": "12dc6b2d-325c-41f1-9345-91a5b779bedf"
   },
   "outputs": [
    {
     "data": {
      "text/plain": [
       "[PhysicalDevice(name='/physical_device:GPU:0', device_type='GPU')]"
      ]
     },
     "execution_count": 11,
     "metadata": {
      "tags": []
     },
     "output_type": "execute_result"
    },
    {
     "name": "stdout",
     "output_type": "stream",
     "text": [
      "time: 3.37 ms\n"
     ]
    }
   ],
   "source": [
    "import tensorflow as tf\n",
    "\n",
    "tf.config.experimental.list_physical_devices('GPU')\n",
    "# tf.config.experimental.list_physical_devices(device_type=None)"
   ]
  },
  {
   "cell_type": "code",
   "execution_count": 12,
   "metadata": {
    "colab": {
     "base_uri": "https://localhost:8080/",
     "height": 34
    },
    "colab_type": "code",
    "executionInfo": {
     "elapsed": 6759,
     "status": "ok",
     "timestamp": 1594497691317,
     "user": {
      "displayName": "Garvit arya",
      "photoUrl": "",
      "userId": "10473100264300162962"
     },
     "user_tz": -330
    },
    "id": "cWHCSN5sLSac",
    "outputId": "ab3eeb25-1f1f-46f4-c1b6-da62a565ba85"
   },
   "outputs": [
    {
     "name": "stdout",
     "output_type": "stream",
     "text": [
      "time: 5.55 s\n"
     ]
    }
   ],
   "source": [
    "from keras.datasets import imdb\n",
    "\n",
    "(train_data, train_labels), (test_data, test_labels) = imdb.load_data(num_words=10000)"
   ]
  },
  {
   "cell_type": "markdown",
   "metadata": {
    "colab_type": "text",
    "id": "v-e0JwZv3a4y"
   },
   "source": [
    "### Preparing the data"
   ]
  },
  {
   "cell_type": "markdown",
   "metadata": {
    "colab_type": "text",
    "id": "HDhxmwdKwL5d"
   },
   "source": [
    "Encoding the integer sequences into a binary matrix\n"
   ]
  },
  {
   "cell_type": "code",
   "execution_count": 13,
   "metadata": {
    "colab": {
     "base_uri": "https://localhost:8080/",
     "height": 34
    },
    "colab_type": "code",
    "executionInfo": {
     "elapsed": 1271,
     "status": "ok",
     "timestamp": 1594497697310,
     "user": {
      "displayName": "Garvit arya",
      "photoUrl": "",
      "userId": "10473100264300162962"
     },
     "user_tz": -330
    },
    "id": "3JDw759ywLpj",
    "outputId": "cded793a-e00d-496d-bdd5-09d298ebc03d"
   },
   "outputs": [
    {
     "name": "stdout",
     "output_type": "stream",
     "text": [
      "time: 3.37 ms\n"
     ]
    }
   ],
   "source": [
    "import numpy as np\n",
    "\n",
    "def vector_sequence(sequences,  dimension=10000):\n",
    "  results = np.zeros((len(sequences), dimension))\n",
    "  for i, sequence in enumerate(sequences):\n",
    "    results[i][sequence] = 1.\n",
    "  return results"
   ]
  },
  {
   "cell_type": "code",
   "execution_count": 14,
   "metadata": {
    "colab": {
     "base_uri": "https://localhost:8080/",
     "height": 34
    },
    "colab_type": "code",
    "executionInfo": {
     "elapsed": 4444,
     "status": "ok",
     "timestamp": 1594497703062,
     "user": {
      "displayName": "Garvit arya",
      "photoUrl": "",
      "userId": "10473100264300162962"
     },
     "user_tz": -330
    },
    "id": "7R0vCdzZBB0X",
    "outputId": "1c3dc23f-7d81-455c-c2fa-34b4f5e1a072"
   },
   "outputs": [
    {
     "name": "stdout",
     "output_type": "stream",
     "text": [
      "time: 3.25 s\n"
     ]
    }
   ],
   "source": [
    "x_train = vector_sequence(train_data)\n",
    "x_test = vector_sequence(test_data)"
   ]
  },
  {
   "cell_type": "code",
   "execution_count": 15,
   "metadata": {
    "colab": {
     "base_uri": "https://localhost:8080/",
     "height": 34
    },
    "colab_type": "code",
    "executionInfo": {
     "elapsed": 1147,
     "status": "ok",
     "timestamp": 1594497705868,
     "user": {
      "displayName": "Garvit arya",
      "photoUrl": "",
      "userId": "10473100264300162962"
     },
     "user_tz": -330
    },
    "id": "jY95W7-EB4jx",
    "outputId": "c0dda8f0-7a4a-4454-ad18-ebf89819ced5"
   },
   "outputs": [
    {
     "name": "stdout",
     "output_type": "stream",
     "text": [
      "time: 2.49 ms\n"
     ]
    }
   ],
   "source": [
    "y_train = np.asarray(train_labels).astype('float32')\n",
    "y_test = np.asarray(test_labels).astype('float32')"
   ]
  },
  {
   "cell_type": "markdown",
   "metadata": {
    "colab_type": "text",
    "id": "qUgnvKowGlPO"
   },
   "source": [
    "### Building your network"
   ]
  },
  {
   "cell_type": "code",
   "execution_count": 16,
   "metadata": {
    "colab": {
     "base_uri": "https://localhost:8080/",
     "height": 34
    },
    "colab_type": "code",
    "executionInfo": {
     "elapsed": 6920,
     "status": "ok",
     "timestamp": 1594497744290,
     "user": {
      "displayName": "Garvit arya",
      "photoUrl": "",
      "userId": "10473100264300162962"
     },
     "user_tz": -330
    },
    "id": "XTqN4ztnB4Lf",
    "outputId": "ea239e33-dd2c-45c9-d4a9-0854895d1bcc"
   },
   "outputs": [
    {
     "name": "stdout",
     "output_type": "stream",
     "text": [
      "time: 5.87 s\n"
     ]
    }
   ],
   "source": [
    "model = models.Sequential()\n",
    "model.add(layers.Dense(16, activation='relu', input_shape = (10000,)))\n",
    "model.add(layers.Dense(16, activation='relu'))\n",
    "model.add(layers.Dense(1, activation='sigmoid'))"
   ]
  },
  {
   "cell_type": "markdown",
   "metadata": {
    "colab_type": "text",
    "id": "SPhGnegY1Kd9"
   },
   "source": [
    "### Compiling the model"
   ]
  },
  {
   "cell_type": "code",
   "execution_count": 17,
   "metadata": {
    "colab": {
     "base_uri": "https://localhost:8080/",
     "height": 34
    },
    "colab_type": "code",
    "executionInfo": {
     "elapsed": 1510,
     "status": "ok",
     "timestamp": 1594497960862,
     "user": {
      "displayName": "Garvit arya",
      "photoUrl": "",
      "userId": "10473100264300162962"
     },
     "user_tz": -330
    },
    "id": "YZDRQd5d1KQu",
    "outputId": "9a60d236-b049-44d0-c6de-afda490d56c0"
   },
   "outputs": [
    {
     "name": "stdout",
     "output_type": "stream",
     "text": [
      "time: 65.8 ms\n"
     ]
    }
   ],
   "source": [
    "from keras import optimizers\n",
    "from keras import losses\n",
    "from keras import metrics\n",
    "\n",
    "# model.compile(optimizer='rmsprop',\n",
    "#                 loss='binary_crossentropy',\n",
    "#                 metrics=['accuracy'])\n",
    "\n",
    "model.compile(optimizer= optimizers.RMSprop(learning_rate=0.001),\n",
    "              loss = losses.binary_crossentropy,\n",
    "              metrics = [metrics.binary_accuracy])\n"
   ]
  },
  {
   "cell_type": "markdown",
   "metadata": {
    "colab_type": "text",
    "id": "SM2W3BDa1KE8"
   },
   "source": [
    "### Validating the approach"
   ]
  },
  {
   "cell_type": "markdown",
   "metadata": {
    "colab_type": "text",
    "id": "g-47rB_y4qvA"
   },
   "source": [
    "Setting aside a validation set\n"
   ]
  },
  {
   "cell_type": "code",
   "execution_count": 18,
   "metadata": {
    "colab": {
     "base_uri": "https://localhost:8080/",
     "height": 34
    },
    "colab_type": "code",
    "executionInfo": {
     "elapsed": 1132,
     "status": "ok",
     "timestamp": 1594497966206,
     "user": {
      "displayName": "Garvit arya",
      "photoUrl": "",
      "userId": "10473100264300162962"
     },
     "user_tz": -330
    },
    "id": "5WH6_gnq4qi2",
    "outputId": "b5b82aee-317b-4252-983f-f48a3a2cbec7"
   },
   "outputs": [
    {
     "name": "stdout",
     "output_type": "stream",
     "text": [
      "time: 1.7 ms\n"
     ]
    }
   ],
   "source": [
    "x_val = x_train[:10000]\n",
    "partial_x_train = x_train[10000:]\n",
    "\n",
    "y_val = y_train[:10000]\n",
    "partial_y_train = y_train[10000:]"
   ]
  },
  {
   "cell_type": "markdown",
   "metadata": {
    "colab_type": "text",
    "id": "5ELBZnT34qWy"
   },
   "source": [
    "### Training the model"
   ]
  },
  {
   "cell_type": "code",
   "execution_count": 19,
   "metadata": {
    "colab": {
     "base_uri": "https://localhost:8080/",
     "height": 751
    },
    "colab_type": "code",
    "executionInfo": {
     "elapsed": 44604,
     "status": "ok",
     "timestamp": 1594498018327,
     "user": {
      "displayName": "Garvit arya",
      "photoUrl": "",
      "userId": "10473100264300162962"
     },
     "user_tz": -330
    },
    "id": "ILAuNjcP7uzZ",
    "outputId": "9d277b0f-fbb2-4356-81c9-d6c6dafb8dcf"
   },
   "outputs": [
    {
     "name": "stdout",
     "output_type": "stream",
     "text": [
      "Train on 15000 samples, validate on 10000 samples\n",
      "Epoch 1/20\n",
      "15000/15000 [==============================] - 4s 251us/step - loss: 0.3620 - binary_accuracy: 0.8513 - val_loss: 0.2735 - val_binary_accuracy: 0.8900\n",
      "Epoch 2/20\n",
      "15000/15000 [==============================] - 2s 137us/step - loss: 0.2003 - binary_accuracy: 0.9240 - val_loss: 0.3160 - val_binary_accuracy: 0.8777\n",
      "Epoch 3/20\n",
      "15000/15000 [==============================] - 2s 137us/step - loss: 0.1477 - binary_accuracy: 0.9449 - val_loss: 0.3225 - val_binary_accuracy: 0.8822\n",
      "Epoch 4/20\n",
      "15000/15000 [==============================] - 2s 139us/step - loss: 0.1129 - binary_accuracy: 0.9595 - val_loss: 0.3643 - val_binary_accuracy: 0.8781\n",
      "Epoch 5/20\n",
      "15000/15000 [==============================] - 2s 142us/step - loss: 0.0843 - binary_accuracy: 0.9705 - val_loss: 0.4038 - val_binary_accuracy: 0.8770\n",
      "Epoch 6/20\n",
      "15000/15000 [==============================] - 2s 132us/step - loss: 0.0634 - binary_accuracy: 0.9782 - val_loss: 0.4725 - val_binary_accuracy: 0.8717\n",
      "Epoch 7/20\n",
      "15000/15000 [==============================] - 2s 136us/step - loss: 0.0441 - binary_accuracy: 0.9846 - val_loss: 0.5719 - val_binary_accuracy: 0.8650\n",
      "Epoch 8/20\n",
      "15000/15000 [==============================] - 2s 139us/step - loss: 0.0316 - binary_accuracy: 0.9893 - val_loss: 0.6797 - val_binary_accuracy: 0.8654\n",
      "Epoch 9/20\n",
      "15000/15000 [==============================] - 2s 136us/step - loss: 0.0190 - binary_accuracy: 0.9945 - val_loss: 0.8057 - val_binary_accuracy: 0.8628\n",
      "Epoch 10/20\n",
      "15000/15000 [==============================] - 2s 137us/step - loss: 0.0128 - binary_accuracy: 0.9963 - val_loss: 0.9772 - val_binary_accuracy: 0.8581\n",
      "Epoch 11/20\n",
      "15000/15000 [==============================] - 2s 141us/step - loss: 0.0072 - binary_accuracy: 0.9980 - val_loss: 1.0949 - val_binary_accuracy: 0.8604\n",
      "Epoch 12/20\n",
      "15000/15000 [==============================] - 2s 139us/step - loss: 0.0056 - binary_accuracy: 0.9987 - val_loss: 1.2150 - val_binary_accuracy: 0.8602\n",
      "Epoch 13/20\n",
      "15000/15000 [==============================] - 2s 135us/step - loss: 0.0021 - binary_accuracy: 0.9994 - val_loss: 1.3777 - val_binary_accuracy: 0.8615\n",
      "Epoch 14/20\n",
      "15000/15000 [==============================] - 2s 138us/step - loss: 9.5377e-04 - binary_accuracy: 0.9999 - val_loss: 1.5766 - val_binary_accuracy: 0.8591\n",
      "Epoch 15/20\n",
      "15000/15000 [==============================] - 2s 137us/step - loss: 6.0282e-04 - binary_accuracy: 0.9999 - val_loss: 1.7339 - val_binary_accuracy: 0.8604\n",
      "Epoch 16/20\n",
      "15000/15000 [==============================] - 2s 139us/step - loss: 2.7933e-04 - binary_accuracy: 0.9999 - val_loss: 1.9448 - val_binary_accuracy: 0.8598\n",
      "Epoch 17/20\n",
      "15000/15000 [==============================] - 2s 143us/step - loss: 2.4349e-04 - binary_accuracy: 0.9999 - val_loss: 2.1338 - val_binary_accuracy: 0.8586\n",
      "Epoch 18/20\n",
      "15000/15000 [==============================] - 2s 139us/step - loss: 1.2816e-04 - binary_accuracy: 0.9999 - val_loss: 2.3024 - val_binary_accuracy: 0.8585\n",
      "Epoch 19/20\n",
      "15000/15000 [==============================] - 2s 141us/step - loss: 5.6774e-05 - binary_accuracy: 1.0000 - val_loss: 2.4913 - val_binary_accuracy: 0.8585\n",
      "Epoch 20/20\n",
      "15000/15000 [==============================] - 2s 136us/step - loss: 2.0204e-05 - binary_accuracy: 1.0000 - val_loss: 2.6226 - val_binary_accuracy: 0.8595\n",
      "time: 43.7 s\n"
     ]
    }
   ],
   "source": [
    "history = model.fit(partial_x_train,\n",
    "                    partial_y_train,\n",
    "                    batch_size = 64,\n",
    "                    epochs = 20,\n",
    "                    validation_data = (x_val, y_val))"
   ]
  },
  {
   "cell_type": "code",
   "execution_count": 20,
   "metadata": {
    "colab": {
     "base_uri": "https://localhost:8080/",
     "height": 34
    },
    "colab_type": "code",
    "executionInfo": {
     "elapsed": 1077,
     "status": "ok",
     "timestamp": 1594498086156,
     "user": {
      "displayName": "Garvit arya",
      "photoUrl": "",
      "userId": "10473100264300162962"
     },
     "user_tz": -330
    },
    "id": "UwWe2l_O7uqB",
    "outputId": "90ca0fea-32bb-40dd-b6b1-5982405dfe8a"
   },
   "outputs": [
    {
     "data": {
      "text/plain": [
       "dict_keys(['val_loss', 'val_binary_accuracy', 'loss', 'binary_accuracy'])"
      ]
     },
     "execution_count": 20,
     "metadata": {
      "tags": []
     },
     "output_type": "execute_result"
    },
    {
     "name": "stdout",
     "output_type": "stream",
     "text": [
      "time: 2.84 ms\n"
     ]
    }
   ],
   "source": [
    "history_dic = history.history\n",
    "history_dic.keys()"
   ]
  },
  {
   "cell_type": "markdown",
   "metadata": {
    "colab_type": "text",
    "id": "J2aQinT8B4Au"
   },
   "source": [
    "### Plotting the training and validation loss"
   ]
  },
  {
   "cell_type": "code",
   "execution_count": 22,
   "metadata": {
    "colab": {
     "base_uri": "https://localhost:8080/",
     "height": 444
    },
    "colab_type": "code",
    "executionInfo": {
     "elapsed": 1443,
     "status": "ok",
     "timestamp": 1594498189730,
     "user": {
      "displayName": "Garvit arya",
      "photoUrl": "",
      "userId": "10473100264300162962"
     },
     "user_tz": -330
    },
    "id": "-vniZYNLDeep",
    "outputId": "ee1df319-db04-47ed-c554-3ae172e19c6a"
   },
   "outputs": [
    {
     "data": {
      "image/png": "[encoded data removed]",
      "text/plain": [
       "<Figure size 640x480 with 1 Axes>"
      ]
     },
     "metadata": {
      "tags": []
     },
     "output_type": "display_data"
    },
    {
     "name": "stdout",
     "output_type": "stream",
     "text": [
      "time: 245 ms\n"
     ]
    }
   ],
   "source": [
    "import matplotlib.pyplot as plt\n",
    "\n",
    "plt.figure(num=None, figsize=(8, 6), dpi=80, facecolor='w', edgecolor='k')\n",
    "\n",
    "history_dic = history.history\n",
    "\n",
    "acc = history_dic['binary_accuracy']\n",
    "val_acc = history_dic['val_binary_accuracy']\n",
    "\n",
    "loss_values = history_dic['loss']\n",
    "val_loss_values = history_dic['val_loss']\n",
    "\n",
    "epochs = range(1, len(acc)+1)\n",
    "\n",
    "plt.plot(epochs, loss_values, 'bo', label = 'Training loss')\n",
    "plt.plot(epochs, val_loss_values, 'b', label = 'Validation loss')\n",
    "plt.xlabel('Epochs')\n",
    "plt.ylabel('Loss')\n",
    "plt.legend()\n",
    "plt.show()\n"
   ]
  },
  {
   "cell_type": "markdown",
   "metadata": {
    "colab_type": "text",
    "id": "3I6cj0thS32T"
   },
   "source": [
    "### Plotting the training and validation accuracy"
   ]
  },
  {
   "cell_type": "code",
   "execution_count": 23,
   "metadata": {
    "colab": {
     "base_uri": "https://localhost:8080/",
     "height": 444
    },
    "colab_type": "code",
    "executionInfo": {
     "elapsed": 1167,
     "status": "ok",
     "timestamp": 1594498203738,
     "user": {
      "displayName": "Garvit arya",
      "photoUrl": "",
      "userId": "10473100264300162962"
     },
     "user_tz": -330
    },
    "id": "ba238dxFDd__",
    "outputId": "323e4328-29e4-4339-b317-730b7c020b19"
   },
   "outputs": [
    {
     "data": {
      "image/png": "[encoded data removed]",
      "text/plain": [
       "<Figure size 640x480 with 1 Axes>"
      ]
     },
     "metadata": {
      "tags": []
     },
     "output_type": "display_data"
    },
    {
     "name": "stdout",
     "output_type": "stream",
     "text": [
      "time: 251 ms\n"
     ]
    }
   ],
   "source": [
    "plt.figure(num=None, figsize=(8, 6), dpi=80, facecolor='w', edgecolor='k')\n",
    "\n",
    "plt.plot(epochs, acc, 'bo', label = 'Training acc')\n",
    "plt.plot(epochs, val_acc, 'b', label = 'Validation acc')\n",
    "plt.xlabel('Epochs')\n",
    "plt.ylabel('Loss')\n",
    "plt.legend()\n",
    "plt.show()\n"
   ]
  },
  {
   "cell_type": "code",
   "execution_count": 26,
   "metadata": {
    "colab": {
     "base_uri": "https://localhost:8080/",
     "height": 51
    },
    "colab_type": "code",
    "executionInfo": {
     "elapsed": 2013,
     "status": "ok",
     "timestamp": 1594498337830,
     "user": {
      "displayName": "Garvit arya",
      "photoUrl": "",
      "userId": "10473100264300162962"
     },
     "user_tz": -330
    },
    "id": "qWaE_nNVDdw7",
    "outputId": "ea1b003d-92ea-4723-81d0-b20c1093769c"
   },
   "outputs": [
    {
     "name": "stdout",
     "output_type": "stream",
     "text": [
      "25000/25000 [==============================] - 1s 50us/step\n",
      "time: 1.26 s\n"
     ]
    }
   ],
   "source": [
    "results = model.evaluate(x_test, y_test, batch_size=128)"
   ]
  },
  {
   "cell_type": "code",
   "execution_count": 28,
   "metadata": {
    "colab": {
     "base_uri": "https://localhost:8080/",
     "height": 51
    },
    "colab_type": "code",
    "executionInfo": {
     "elapsed": 1173,
     "status": "ok",
     "timestamp": 1594498378965,
     "user": {
      "displayName": "Garvit arya",
      "photoUrl": "",
      "userId": "10473100264300162962"
     },
     "user_tz": -330
    },
    "id": "DELtqRY4Ddk6",
    "outputId": "a0b8bd86-05a7-4cfd-cd42-c80e8b881f4a"
   },
   "outputs": [
    {
     "name": "stdout",
     "output_type": "stream",
     "text": [
      "test loss, test acc: [2.8461571408081054, 0.8438000082969666]\n",
      "time: 1.32 ms\n"
     ]
    }
   ],
   "source": [
    "print(\"test loss, test acc:\", results)"
   ]
  }
 ],
 "metadata": {
  "accelerator": "GPU",
  "colab": {
   "authorship_tag": "ABX9TyMnXYZ4oJ7cso4yJs4T6GFm",
   "collapsed_sections": [],
   "name": "2- Binary Classification (classifying movie reviews).ipynb",
   "provenance": []
  },
  "kernelspec": {
   "display_name": "Python 3",
   "language": "python",
   "name": "python3"
  },
  "language_info": {
   "codemirror_mode": {
    "name": "ipython",
    "version": 3
   },
   "file_extension": ".py",
   "mimetype": "text/x-python",
   "name": "python",
   "nbconvert_exporter": "python",
   "pygments_lexer": "ipython3",
   "version": "3.7.4"
  }
 },
 "nbformat": 4,
 "nbformat_minor": 4
}
