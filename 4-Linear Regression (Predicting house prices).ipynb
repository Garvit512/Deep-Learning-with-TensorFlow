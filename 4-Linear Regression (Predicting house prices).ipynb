{
 "cells": [
  {
   "cell_type": "markdown",
   "metadata": {
    "colab_type": "text",
    "id": "eHE3HdXGBjMB"
   },
   "source": [
    "### Loading the Boston housing dataset"
   ]
  },
  {
   "cell_type": "code",
   "execution_count": 54,
   "metadata": {
    "colab": {
     "base_uri": "https://localhost:8080/",
     "height": 34
    },
    "colab_type": "code",
    "executionInfo": {
     "elapsed": 1265,
     "status": "ok",
     "timestamp": 1594725189937,
     "user": {
      "displayName": "Garvit arya",
      "photoUrl": "",
      "userId": "10473100264300162962"
     },
     "user_tz": -330
    },
    "id": "jwQyJHImBjCc",
    "outputId": "8b221aeb-2d0b-4086-d002-4ff5dfc9f3dc"
   },
   "outputs": [
    {
     "name": "stdout",
     "output_type": "stream",
     "text": [
      "time: 5.68 ms\n"
     ]
    }
   ],
   "source": [
    "from keras.datasets import boston_housing\n",
    "\n",
    "(train_data, train_labels), (test_data, test_labels) = boston_housing.load_data()"
   ]
  },
  {
   "cell_type": "code",
   "execution_count": 55,
   "metadata": {
    "colab": {
     "base_uri": "https://localhost:8080/",
     "height": 51
    },
    "colab_type": "code",
    "executionInfo": {
     "elapsed": 1691,
     "status": "ok",
     "timestamp": 1594725190703,
     "user": {
      "displayName": "Garvit arya",
      "photoUrl": "",
      "userId": "10473100264300162962"
     },
     "user_tz": -330
    },
    "id": "ST5Oz7LJB68z",
    "outputId": "2ed852de-01ea-464b-fd74-0ae0134f1c4f"
   },
   "outputs": [
    {
     "name": "stdout",
     "output_type": "stream",
     "text": [
      "(102, 13)\n",
      "time: 729 µs\n"
     ]
    }
   ],
   "source": [
    "print(test_data.shape)"
   ]
  },
  {
   "cell_type": "markdown",
   "metadata": {
    "colab_type": "text",
    "id": "lhl2ODpbGkhc"
   },
   "source": [
    "### Preparing the data"
   ]
  },
  {
   "cell_type": "markdown",
   "metadata": {
    "colab_type": "text",
    "id": "IO_v-dAwGkVH"
   },
   "source": [
    "Normalizing the data"
   ]
  },
  {
   "cell_type": "code",
   "execution_count": 56,
   "metadata": {
    "colab": {
     "base_uri": "https://localhost:8080/",
     "height": 34
    },
    "colab_type": "code",
    "executionInfo": {
     "elapsed": 831,
     "status": "ok",
     "timestamp": 1594725192244,
     "user": {
      "displayName": "Garvit arya",
      "photoUrl": "",
      "userId": "10473100264300162962"
     },
     "user_tz": -330
    },
    "id": "cobvjlGbLExh",
    "outputId": "708765ad-3218-4d10-e4fc-37c717ebe401"
   },
   "outputs": [
    {
     "name": "stdout",
     "output_type": "stream",
     "text": [
      "time: 2.71 ms\n"
     ]
    }
   ],
   "source": [
    "mean = train_data.mean(axis=0)\n",
    "train_data -= mean\n",
    "std = train_data.std(axis=0)\n",
    "train_data /= std\n",
    "\n",
    "test_data -= mean\n",
    "test_data /= std"
   ]
  },
  {
   "cell_type": "markdown",
   "metadata": {
    "colab_type": "text",
    "id": "MiRMMV9dMDv5"
   },
   "source": [
    "### Building your network"
   ]
  },
  {
   "cell_type": "code",
   "execution_count": 58,
   "metadata": {
    "colab": {
     "base_uri": "https://localhost:8080/",
     "height": 34
    },
    "colab_type": "code",
    "executionInfo": {
     "elapsed": 1013,
     "status": "ok",
     "timestamp": 1594725202775,
     "user": {
      "displayName": "Garvit arya",
      "photoUrl": "",
      "userId": "10473100264300162962"
     },
     "user_tz": -330
    },
    "id": "j4cvE2dKMDkN",
    "outputId": "e6ce9ad4-682a-4ff3-ab68-e70f27a5f7de"
   },
   "outputs": [
    {
     "name": "stdout",
     "output_type": "stream",
     "text": [
      "time: 9.23 ms\n"
     ]
    }
   ],
   "source": [
    "from keras import models\n",
    "from keras import layers\n",
    "from keras.optimizers import RMSprop\n",
    "from keras.losses import mse\n",
    "from keras.metrics import mae\n",
    "\n",
    "\n",
    "def build_model():\n",
    "  model = models.Sequential()\n",
    "  model.add(layers.Dense(64, activation='relu', input_shape=(train_data.shape[1], )))\n",
    "  model.add(layers.Dense(64, activation='relu'))\n",
    "  model.add(layers.Dense(1))\n",
    "\n",
    "  model.compile(optimizer=RMSprop(learning_rate=0.001),\n",
    "                loss = mse,\n",
    "                metrics = [mae])\n",
    "  \n",
    "  return model"
   ]
  },
  {
   "cell_type": "markdown",
   "metadata": {
    "colab_type": "text",
    "id": "g2f3gJ7XN5hh"
   },
   "source": [
    "### Validating your approach using K-fold validation"
   ]
  },
  {
   "cell_type": "code",
   "execution_count": null,
   "metadata": {
    "colab": {},
    "colab_type": "code",
    "id": "syofUshCN6qx"
   },
   "outputs": [],
   "source": [
    "# sample code for k-fold validation\n",
    "'''\n",
    "import numpy as np\n",
    "\n",
    "train_data = [[1,2,3,4,5,6,7,8,9,10,11,12,13],\n",
    "              [2,5,6,8,2,4,5,7,1,5,7,8,43, 2],\n",
    "              [3,8,4,3,3,7,6,5,4,3,2,1,7, 6],\n",
    "              [4,2,3,4,5,6,7,8,9,10,11,12,13],\n",
    "              [5,5,6,8,2,4,5,7,1,5,7,8,43, 2],\n",
    "              [6,8,4,3,3,7,6,5,4,3,2,1,7, 6],\n",
    "              [7,2,3,4,5,6,7,8,9,10,11,12,13],\n",
    "              [8,5,6,8,2,4,5,7,1,5,7,8,43, 2],\n",
    "              [9,8,4,3,3,7,6,5,4,3,2,1,7, 6],\n",
    "              [10,2,3,4,5,6,7,8,9,10,11,12,13],\n",
    "              [11,5,6,8,2,4,5,7,1,5,7,8,43, 2],\n",
    "              [12,8,4,3,3,7,6,5,4,3,2,1,7, 6]]\n",
    "\n",
    "train_labels = [101,102,103,104,105,106,107,108,109,110,111,112]\n",
    "\n",
    "k = 4\n",
    "num_val_samples = len(train_data) // k\n",
    "# print(\"num_val_samples:\", num_val_samples)\n",
    "num_epochs = 100\n",
    "all_scores = []\n",
    "\n",
    "for i in range(k):\n",
    "  print(\"processing fold #\", i)\n",
    "  print(f\"val_data from {i*num_val_samples} to {(i+1)*num_val_samples} \")\n",
    "  val_data = train_data[i*num_val_samples: (i+1)*num_val_samples]\n",
    "  val_targets = train_labels[i*num_val_samples: (i+1)*num_val_samples]\n",
    "  print(\"val_data: \",val_data)\n",
    "  print(\"val_targets: \",val_targets)\n",
    "  print()\n",
    "  print(f\"partial_train_data from {train_data[:i * num_val_samples]} to {train_data[(i + 1) * num_val_samples:]}\")\n",
    "  partial_train_data = np.concatenate([train_data[:i * num_val_samples], train_data[(i + 1) * num_val_samples:]], axis=0)\n",
    "  partial_train_targets = np.concatenate([train_labels[:i * num_val_samples], train_labels[(i + 1) * num_val_samples:]], axis=0)\n",
    "  print(\"partial_train_data: \", partial_train_data)\n",
    "  print(\"partial_train_targets: \", partial_train_targets)\n",
    "  print(\"####################################################\")\n",
    "  print()\n",
    "  '''"
   ]
  },
  {
   "cell_type": "code",
   "execution_count": 59,
   "metadata": {
    "colab": {
     "base_uri": "https://localhost:8080/",
     "height": 34
    },
    "colab_type": "code",
    "executionInfo": {
     "elapsed": 245564,
     "status": "ok",
     "timestamp": 1594725663595,
     "user": {
      "displayName": "Garvit arya",
      "photoUrl": "",
      "userId": "10473100264300162962"
     },
     "user_tz": -330
    },
    "id": "6vh7kJjOB6p_",
    "outputId": "f94395af-727f-4315-a4d1-07aa1e11ca10"
   },
   "outputs": [
    {
     "name": "stdout",
     "output_type": "stream",
     "text": [
      "time: 4min 4s\n"
     ]
    }
   ],
   "source": [
    "import numpy as np\n",
    "\n",
    "k = 4\n",
    "num_val_samples = len(train_data) // k\n",
    "num_epochs = 100\n",
    "all_scores = []\n",
    "\n",
    "for i in range(k):\n",
    "  val_data = train_data[i*num_val_samples: (i+1)*num_val_samples]\n",
    "  val_targets = train_labels[i*num_val_samples: (i+1)*num_val_samples]\n",
    "\n",
    "  partial_train_data = np.concatenate([train_data[:i * num_val_samples], train_data[(i + 1) * num_val_samples:]], axis=0)\n",
    "  partial_train_targets = np.concatenate([train_labels[:i * num_val_samples], train_labels[(i + 1) * num_val_samples:]], axis=0)\n",
    "\n",
    "  model = build_model()\n",
    "  model.fit(partial_train_data, partial_train_targets, epochs = num_epochs, batch_size = 1, verbose=0)\n",
    "  val_mse, val_mae = model.evaluate(val_data, val_targets, verbose=0)\n",
    "  all_scores.append(val_mae)"
   ]
  },
  {
   "cell_type": "code",
   "execution_count": 65,
   "metadata": {
    "colab": {
     "base_uri": "https://localhost:8080/",
     "height": 51
    },
    "colab_type": "code",
    "executionInfo": {
     "elapsed": 971,
     "status": "ok",
     "timestamp": 1594726659678,
     "user": {
      "displayName": "Garvit arya",
      "photoUrl": "",
      "userId": "10473100264300162962"
     },
     "user_tz": -330
    },
    "id": "tSHe-ru7B6g1",
    "outputId": "7193ed07-c9f6-4640-a05d-4d0cd206f2cb"
   },
   "outputs": [
    {
     "name": "stdout",
     "output_type": "stream",
     "text": [
      "Mean Absolute Error:  2.4825117588043213\n",
      "time: 1.19 ms\n"
     ]
    }
   ],
   "source": [
    "print(\"Mean Absolute Error: \",np.array(all_scores).mean())"
   ]
  },
  {
   "cell_type": "code",
   "execution_count": null,
   "metadata": {
    "colab": {},
    "colab_type": "code",
    "id": "udgB9-W7BiuN"
   },
   "outputs": [],
   "source": []
  }
 ],
 "metadata": {
  "accelerator": "GPU",
  "colab": {
   "authorship_tag": "ABX9TyOwDywEN1pTwmth9mTWaQsX",
   "collapsed_sections": [],
   "name": "4-Linear Regression (Predicting house prices).ipynb",
   "provenance": []
  },
  "kernelspec": {
   "display_name": "Python 3",
   "language": "python",
   "name": "python3"
  },
  "language_info": {
   "codemirror_mode": {
    "name": "ipython",
    "version": 3
   },
   "file_extension": ".py",
   "mimetype": "text/x-python",
   "name": "python",
   "nbconvert_exporter": "python",
   "pygments_lexer": "ipython3",
   "version": "3.7.4"
  }
 },
 "nbformat": 4,
 "nbformat_minor": 4
}
